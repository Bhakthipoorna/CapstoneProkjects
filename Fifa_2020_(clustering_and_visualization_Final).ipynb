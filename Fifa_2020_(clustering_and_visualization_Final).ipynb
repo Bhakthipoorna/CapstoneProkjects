{
  "nbformat": 4,
  "nbformat_minor": 0,
  "metadata": {
    "accelerator": "GPU",
    "colab": {
      "name": "Fifa_2020_(clustering_and_visualization_Final).ipynb",
      "provenance": [],
      "include_colab_link": true
    },
    "kernelspec": {
      "display_name": "Python 3",
      "language": "python",
      "name": "python3"
    },
    "language_info": {
      "codemirror_mode": {
        "name": "ipython",
        "version": 3
      },
      "file_extension": ".py",
      "mimetype": "text/x-python",
      "name": "python",
      "nbconvert_exporter": "python",
      "pygments_lexer": "ipython3",
      "version": "3.7.6"
    }
  },
  "cells": [
    {
      "cell_type": "markdown",
      "metadata": {
        "id": "view-in-github",
        "colab_type": "text"
      },
      "source": [
        "<a href=\"https://colab.research.google.com/github/Bhakthipoorna/CapstoneProkjects/blob/main/Fifa_2020_(clustering_and_visualization_Final).ipynb\" target=\"_parent\"><img src=\"https://colab.research.google.com/assets/colab-badge.svg\" alt=\"Open In Colab\"/></a>"
      ]
    },
    {
      "cell_type": "code",
      "metadata": {
        "id": "0Dz2ABJVIn95"
      },
      "source": [
        "import numpy as np\n",
        "import pandas as pd\n",
        "import matplotlib.pyplot as plt\n",
        "import seaborn as sns\n",
        "import warnings\n",
        "warnings.simplefilter(\"ignore\")"
      ],
      "execution_count": null,
      "outputs": []
    },
    {
      "cell_type": "code",
      "metadata": {
        "id": "ds4Id5JTJG4C"
      },
      "source": [
        "df=pd.read_csv('players_20.csv')"
      ],
      "execution_count": null,
      "outputs": []
    },
    {
      "cell_type": "code",
      "metadata": {
        "colab": {
          "base_uri": "https://localhost:8080/",
          "height": 489
        },
        "id": "pMa547hRJeFT",
        "outputId": "09390cf0-1691-44a0-c051-f71304a2848a"
      },
      "source": [
        "df.head()"
      ],
      "execution_count": null,
      "outputs": [
        {
          "output_type": "execute_result",
          "data": {
            "text/html": [
              "<div>\n",
              "<style scoped>\n",
              "    .dataframe tbody tr th:only-of-type {\n",
              "        vertical-align: middle;\n",
              "    }\n",
              "\n",
              "    .dataframe tbody tr th {\n",
              "        vertical-align: top;\n",
              "    }\n",
              "\n",
              "    .dataframe thead th {\n",
              "        text-align: right;\n",
              "    }\n",
              "</style>\n",
              "<table border=\"1\" class=\"dataframe\">\n",
              "  <thead>\n",
              "    <tr style=\"text-align: right;\">\n",
              "      <th></th>\n",
              "      <th>sofifa_id</th>\n",
              "      <th>player_url</th>\n",
              "      <th>short_name</th>\n",
              "      <th>long_name</th>\n",
              "      <th>age</th>\n",
              "      <th>dob</th>\n",
              "      <th>height_cm</th>\n",
              "      <th>weight_kg</th>\n",
              "      <th>nationality</th>\n",
              "      <th>club</th>\n",
              "      <th>...</th>\n",
              "      <th>lwb</th>\n",
              "      <th>ldm</th>\n",
              "      <th>cdm</th>\n",
              "      <th>rdm</th>\n",
              "      <th>rwb</th>\n",
              "      <th>lb</th>\n",
              "      <th>lcb</th>\n",
              "      <th>cb</th>\n",
              "      <th>rcb</th>\n",
              "      <th>rb</th>\n",
              "    </tr>\n",
              "  </thead>\n",
              "  <tbody>\n",
              "    <tr>\n",
              "      <th>0</th>\n",
              "      <td>158023</td>\n",
              "      <td>https://sofifa.com/player/158023/lionel-messi/...</td>\n",
              "      <td>L. Messi</td>\n",
              "      <td>Lionel Andrés Messi Cuccittini</td>\n",
              "      <td>32</td>\n",
              "      <td>1987-06-24</td>\n",
              "      <td>170</td>\n",
              "      <td>72</td>\n",
              "      <td>Argentina</td>\n",
              "      <td>FC Barcelona</td>\n",
              "      <td>...</td>\n",
              "      <td>68+2</td>\n",
              "      <td>66+2</td>\n",
              "      <td>66+2</td>\n",
              "      <td>66+2</td>\n",
              "      <td>68+2</td>\n",
              "      <td>63+2</td>\n",
              "      <td>52+2</td>\n",
              "      <td>52+2</td>\n",
              "      <td>52+2</td>\n",
              "      <td>63+2</td>\n",
              "    </tr>\n",
              "    <tr>\n",
              "      <th>1</th>\n",
              "      <td>20801</td>\n",
              "      <td>https://sofifa.com/player/20801/c-ronaldo-dos-...</td>\n",
              "      <td>Cristiano Ronaldo</td>\n",
              "      <td>Cristiano Ronaldo dos Santos Aveiro</td>\n",
              "      <td>34</td>\n",
              "      <td>1985-02-05</td>\n",
              "      <td>187</td>\n",
              "      <td>83</td>\n",
              "      <td>Portugal</td>\n",
              "      <td>Juventus</td>\n",
              "      <td>...</td>\n",
              "      <td>65+3</td>\n",
              "      <td>61+3</td>\n",
              "      <td>61+3</td>\n",
              "      <td>61+3</td>\n",
              "      <td>65+3</td>\n",
              "      <td>61+3</td>\n",
              "      <td>53+3</td>\n",
              "      <td>53+3</td>\n",
              "      <td>53+3</td>\n",
              "      <td>61+3</td>\n",
              "    </tr>\n",
              "    <tr>\n",
              "      <th>2</th>\n",
              "      <td>190871</td>\n",
              "      <td>https://sofifa.com/player/190871/neymar-da-sil...</td>\n",
              "      <td>Neymar Jr</td>\n",
              "      <td>Neymar da Silva Santos Junior</td>\n",
              "      <td>27</td>\n",
              "      <td>1992-02-05</td>\n",
              "      <td>175</td>\n",
              "      <td>68</td>\n",
              "      <td>Brazil</td>\n",
              "      <td>Paris Saint-Germain</td>\n",
              "      <td>...</td>\n",
              "      <td>66+3</td>\n",
              "      <td>61+3</td>\n",
              "      <td>61+3</td>\n",
              "      <td>61+3</td>\n",
              "      <td>66+3</td>\n",
              "      <td>61+3</td>\n",
              "      <td>46+3</td>\n",
              "      <td>46+3</td>\n",
              "      <td>46+3</td>\n",
              "      <td>61+3</td>\n",
              "    </tr>\n",
              "    <tr>\n",
              "      <th>3</th>\n",
              "      <td>200389</td>\n",
              "      <td>https://sofifa.com/player/200389/jan-oblak/20/...</td>\n",
              "      <td>J. Oblak</td>\n",
              "      <td>Jan Oblak</td>\n",
              "      <td>26</td>\n",
              "      <td>1993-01-07</td>\n",
              "      <td>188</td>\n",
              "      <td>87</td>\n",
              "      <td>Slovenia</td>\n",
              "      <td>Atlético Madrid</td>\n",
              "      <td>...</td>\n",
              "      <td>NaN</td>\n",
              "      <td>NaN</td>\n",
              "      <td>NaN</td>\n",
              "      <td>NaN</td>\n",
              "      <td>NaN</td>\n",
              "      <td>NaN</td>\n",
              "      <td>NaN</td>\n",
              "      <td>NaN</td>\n",
              "      <td>NaN</td>\n",
              "      <td>NaN</td>\n",
              "    </tr>\n",
              "    <tr>\n",
              "      <th>4</th>\n",
              "      <td>183277</td>\n",
              "      <td>https://sofifa.com/player/183277/eden-hazard/2...</td>\n",
              "      <td>E. Hazard</td>\n",
              "      <td>Eden Hazard</td>\n",
              "      <td>28</td>\n",
              "      <td>1991-01-07</td>\n",
              "      <td>175</td>\n",
              "      <td>74</td>\n",
              "      <td>Belgium</td>\n",
              "      <td>Real Madrid</td>\n",
              "      <td>...</td>\n",
              "      <td>66+3</td>\n",
              "      <td>63+3</td>\n",
              "      <td>63+3</td>\n",
              "      <td>63+3</td>\n",
              "      <td>66+3</td>\n",
              "      <td>61+3</td>\n",
              "      <td>49+3</td>\n",
              "      <td>49+3</td>\n",
              "      <td>49+3</td>\n",
              "      <td>61+3</td>\n",
              "    </tr>\n",
              "  </tbody>\n",
              "</table>\n",
              "<p>5 rows × 104 columns</p>\n",
              "</div>"
            ],
            "text/plain": [
              "   sofifa_id                                         player_url  \\\n",
              "0     158023  https://sofifa.com/player/158023/lionel-messi/...   \n",
              "1      20801  https://sofifa.com/player/20801/c-ronaldo-dos-...   \n",
              "2     190871  https://sofifa.com/player/190871/neymar-da-sil...   \n",
              "3     200389  https://sofifa.com/player/200389/jan-oblak/20/...   \n",
              "4     183277  https://sofifa.com/player/183277/eden-hazard/2...   \n",
              "\n",
              "          short_name                            long_name  age         dob  \\\n",
              "0           L. Messi       Lionel Andrés Messi Cuccittini   32  1987-06-24   \n",
              "1  Cristiano Ronaldo  Cristiano Ronaldo dos Santos Aveiro   34  1985-02-05   \n",
              "2          Neymar Jr        Neymar da Silva Santos Junior   27  1992-02-05   \n",
              "3           J. Oblak                            Jan Oblak   26  1993-01-07   \n",
              "4          E. Hazard                          Eden Hazard   28  1991-01-07   \n",
              "\n",
              "   height_cm  weight_kg nationality                 club  ...   lwb   ldm  \\\n",
              "0        170         72   Argentina         FC Barcelona  ...  68+2  66+2   \n",
              "1        187         83    Portugal             Juventus  ...  65+3  61+3   \n",
              "2        175         68      Brazil  Paris Saint-Germain  ...  66+3  61+3   \n",
              "3        188         87    Slovenia      Atlético Madrid  ...   NaN   NaN   \n",
              "4        175         74     Belgium          Real Madrid  ...  66+3  63+3   \n",
              "\n",
              "    cdm   rdm   rwb    lb   lcb    cb   rcb    rb  \n",
              "0  66+2  66+2  68+2  63+2  52+2  52+2  52+2  63+2  \n",
              "1  61+3  61+3  65+3  61+3  53+3  53+3  53+3  61+3  \n",
              "2  61+3  61+3  66+3  61+3  46+3  46+3  46+3  61+3  \n",
              "3   NaN   NaN   NaN   NaN   NaN   NaN   NaN   NaN  \n",
              "4  63+3  63+3  66+3  61+3  49+3  49+3  49+3  61+3  \n",
              "\n",
              "[5 rows x 104 columns]"
            ]
          },
          "metadata": {
            "tags": []
          },
          "execution_count": 33
        }
      ]
    },
    {
      "cell_type": "code",
      "metadata": {
        "id": "k7L3xmXXrEE8"
      },
      "source": [
        ""
      ],
      "execution_count": null,
      "outputs": []
    },
    {
      "cell_type": "markdown",
      "metadata": {
        "id": "eHTQ5UfpKDbY"
      },
      "source": [
        "####Numerical columns"
      ]
    },
    {
      "cell_type": "code",
      "metadata": {
        "id": "AziScPa6J4Fb"
      },
      "source": [
        "num_df=[features for features in df.columns if df[features].dtype!='O']"
      ],
      "execution_count": null,
      "outputs": []
    },
    {
      "cell_type": "code",
      "metadata": {
        "id": "UK0icBGNKJZo"
      },
      "source": [
        "num_df=df.copy()\n",
        "num_df=num_df[['sofifa_id', 'age', 'height_cm', 'weight_kg', 'overall', 'potential', 'value_eur', 'wage_eur', 'international_reputation', 'weak_foot', 'skill_moves', 'release_clause_eur', 'team_jersey_number', 'contract_valid_until', 'nation_jersey_number', 'pace', 'shooting', 'passing', 'dribbling', 'defending', 'physic', 'gk_diving', 'gk_handling', 'gk_kicking', 'gk_reflexes', 'gk_speed', 'gk_positioning', 'attacking_crossing', 'attacking_finishing', 'attacking_heading_accuracy', 'attacking_short_passing', 'attacking_volleys', 'skill_dribbling', 'skill_curve', 'skill_fk_accuracy', 'skill_long_passing', 'skill_ball_control', 'movement_acceleration', 'movement_sprint_speed', 'movement_agility', 'movement_reactions', 'movement_balance', 'power_shot_power', 'power_jumping', 'power_stamina', 'power_strength', 'power_long_shots', 'mentality_aggression', 'mentality_interceptions','mentality_positioning', 'mentality_vision', 'mentality_penalties', 'mentality_composure', 'defending_marking', 'defending_standing_tackle', 'defending_sliding_tackle', 'goalkeeping_diving', 'goalkeeping_handling', 'goalkeeping_kicking', 'goalkeeping_positioning', 'goalkeeping_reflexes']]"
      ],
      "execution_count": null,
      "outputs": []
    },
    {
      "cell_type": "markdown",
      "metadata": {
        "id": "Y1GL4xpIL7qJ"
      },
      "source": [
        "####Categorical columns"
      ]
    },
    {
      "cell_type": "code",
      "metadata": {
        "id": "8dHVXZAaKeVu"
      },
      "source": [
        "cat_df=[features for features in df.columns if df[features].dtype=='O']"
      ],
      "execution_count": null,
      "outputs": []
    },
    {
      "cell_type": "code",
      "metadata": {
        "id": "iLMcBzJBMIWS"
      },
      "source": [
        "cat_df=df.copy()\n",
        "cat_df=df[['player_url', 'short_name', 'long_name', 'dob','nationality','club', 'player_positions', 'preferred_foot', 'work_rate', 'body_type', 'real_face', 'player_tags', 'team_position', 'loaned_from', 'joined', 'nation_position', 'player_traits', 'ls', 'st', 'rs', 'lw', 'lf', 'cf', 'rf', 'rw', 'lam', 'cam', 'ram', 'lm', 'lcm', 'cm', 'rcm', 'rm', 'lwb', 'ldm', 'cdm', 'rdm', 'rwb', 'lb', 'lcb', 'cb', 'rcb', 'rb']]"
      ],
      "execution_count": null,
      "outputs": []
    },
    {
      "cell_type": "code",
      "metadata": {
        "colab": {
          "base_uri": "https://localhost:8080/"
        },
        "id": "JQAf36bFMqTx",
        "outputId": "e60ed633-1e92-49b4-e214-2e4595e66db1"
      },
      "source": [
        "cat_df.shape,num_df.shape"
      ],
      "execution_count": null,
      "outputs": [
        {
          "output_type": "execute_result",
          "data": {
            "text/plain": [
              "((18278, 43), (18278, 61))"
            ]
          },
          "metadata": {
            "tags": []
          },
          "execution_count": 38
        }
      ]
    },
    {
      "cell_type": "code",
      "metadata": {
        "colab": {
          "base_uri": "https://localhost:8080/"
        },
        "id": "wRvmw67WMvUC",
        "outputId": "0c2c320d-0dae-43e6-a15c-a9a713f34c73"
      },
      "source": [
        "df['player_traits'].value_counts()"
      ],
      "execution_count": null,
      "outputs": [
        {
          "output_type": "execute_result",
          "data": {
            "text/plain": [
              "Early Crosser                                                       501\n",
              "Power Free-Kick                                                     370\n",
              "Long Passer (CPU AI Only)                                           354\n",
              "Crowd Favourite                                                     296\n",
              "Argues with Officials                                               294\n",
              "                                                                   ... \n",
              "Avoids Using Weaker Foot, Selfish, Flair                              1\n",
              "Avoids Using Weaker Foot, Flair, Giant Throw-in, Swerve Pass          1\n",
              "Power Free-Kick, Beat Offside Trap, Finesse Shot, Giant Throw-in      1\n",
              "Diver, Avoids Using Weaker Foot, Giant Throw-in, Swerve Pass          1\n",
              "Injury Prone, Avoids Using Weaker Foot, Finesse Shot                  1\n",
              "Name: player_traits, Length: 921, dtype: int64"
            ]
          },
          "metadata": {
            "tags": []
          },
          "execution_count": 39
        }
      ]
    },
    {
      "cell_type": "code",
      "metadata": {
        "colab": {
          "base_uri": "https://localhost:8080/",
          "height": 374
        },
        "id": "Pqh9tYjNVWzp",
        "outputId": "c307d320-28e8-4fce-a78f-30a829106c6f"
      },
      "source": [
        "plt.figure(figsize=(15,5))\n",
        "ax=sns.countplot(df['nation_position'])\n",
        "ax.set_xlabel(xlabel=\"Different positions in football\",fontsize=15)\n",
        "ax.set_ylabel(ylabel = \"count of players\",fontsize=15)\n",
        "ax.set_title(label=\"Comparision of players and positions\",fontsize=15)"
      ],
      "execution_count": null,
      "outputs": [
        {
          "output_type": "execute_result",
          "data": {
            "text/plain": [
              "Text(0.5, 1.0, 'Comparision of players and positions')"
            ]
          },
          "metadata": {
            "tags": []
          },
          "execution_count": 40
        },
        {
          "output_type": "display_data",
          "data": {
            "image/png": "[encoded data removed]",
            "text/plain": [
              "<Figure size 1080x360 with 1 Axes>"
            ]
          },
          "metadata": {
            "tags": [],
            "needs_background": "light"
          }
        }
      ]
    },
    {
      "cell_type": "markdown",
      "metadata": {
        "id": "2NHbcJM68IhS"
      },
      "source": [
        " From the above Graph, we can see that majority of the players are substitute"
      ]
    },
    {
      "cell_type": "code",
      "metadata": {
        "id": "GwveTTZxNhBc"
      },
      "source": [
        "df=df.drop(['nation_jersey_number','joined','contract_valid_until','dob','player_url','long_name','nation_position','player_tags','loaned_from','player_traits'],axis=1)"
      ],
      "execution_count": null,
      "outputs": []
    },
    {
      "cell_type": "code",
      "metadata": {
        "colab": {
          "base_uri": "https://localhost:8080/"
        },
        "id": "4OjV3EM1OEjb",
        "outputId": "9caaaad4-b6c4-4bcc-ff66-72e7d042ea8e"
      },
      "source": [
        "num_df.info()"
      ],
      "execution_count": null,
      "outputs": [
        {
          "output_type": "stream",
          "text": [
            "<class 'pandas.core.frame.DataFrame'>\n",
            "RangeIndex: 18278 entries, 0 to 18277\n",
            "Data columns (total 61 columns):\n",
            " #   Column                      Non-Null Count  Dtype  \n",
            "---  ------                      --------------  -----  \n",
            " 0   sofifa_id                   18278 non-null  int64  \n",
            " 1   age                         18278 non-null  int64  \n",
            " 2   height_cm                   18278 non-null  int64  \n",
            " 3   weight_kg                   18278 non-null  int64  \n",
            " 4   overall                     18278 non-null  int64  \n",
            " 5   potential                   18278 non-null  int64  \n",
            " 6   value_eur                   18278 non-null  int64  \n",
            " 7   wage_eur                    18278 non-null  int64  \n",
            " 8   international_reputation    18278 non-null  int64  \n",
            " 9   weak_foot                   18278 non-null  int64  \n",
            " 10  skill_moves                 18278 non-null  int64  \n",
            " 11  release_clause_eur          16980 non-null  float64\n",
            " 12  team_jersey_number          18038 non-null  float64\n",
            " 13  contract_valid_until        18038 non-null  float64\n",
            " 14  nation_jersey_number        1126 non-null   float64\n",
            " 15  pace                        16242 non-null  float64\n",
            " 16  shooting                    16242 non-null  float64\n",
            " 17  passing                     16242 non-null  float64\n",
            " 18  dribbling                   16242 non-null  float64\n",
            " 19  defending                   16242 non-null  float64\n",
            " 20  physic                      16242 non-null  float64\n",
            " 21  gk_diving                   2036 non-null   float64\n",
            " 22  gk_handling                 2036 non-null   float64\n",
            " 23  gk_kicking                  2036 non-null   float64\n",
            " 24  gk_reflexes                 2036 non-null   float64\n",
            " 25  gk_speed                    2036 non-null   float64\n",
            " 26  gk_positioning              2036 non-null   float64\n",
            " 27  attacking_crossing          18278 non-null  int64  \n",
            " 28  attacking_finishing         18278 non-null  int64  \n",
            " 29  attacking_heading_accuracy  18278 non-null  int64  \n",
            " 30  attacking_short_passing     18278 non-null  int64  \n",
            " 31  attacking_volleys           18278 non-null  int64  \n",
            " 32  skill_dribbling             18278 non-null  int64  \n",
            " 33  skill_curve                 18278 non-null  int64  \n",
            " 34  skill_fk_accuracy           18278 non-null  int64  \n",
            " 35  skill_long_passing          18278 non-null  int64  \n",
            " 36  skill_ball_control          18278 non-null  int64  \n",
            " 37  movement_acceleration       18278 non-null  int64  \n",
            " 38  movement_sprint_speed       18278 non-null  int64  \n",
            " 39  movement_agility            18278 non-null  int64  \n",
            " 40  movement_reactions          18278 non-null  int64  \n",
            " 41  movement_balance            18278 non-null  int64  \n",
            " 42  power_shot_power            18278 non-null  int64  \n",
            " 43  power_jumping               18278 non-null  int64  \n",
            " 44  power_stamina               18278 non-null  int64  \n",
            " 45  power_strength              18278 non-null  int64  \n",
            " 46  power_long_shots            18278 non-null  int64  \n",
            " 47  mentality_aggression        18278 non-null  int64  \n",
            " 48  mentality_interceptions     18278 non-null  int64  \n",
            " 49  mentality_positioning       18278 non-null  int64  \n",
            " 50  mentality_vision            18278 non-null  int64  \n",
            " 51  mentality_penalties         18278 non-null  int64  \n",
            " 52  mentality_composure         18278 non-null  int64  \n",
            " 53  defending_marking           18278 non-null  int64  \n",
            " 54  defending_standing_tackle   18278 non-null  int64  \n",
            " 55  defending_sliding_tackle    18278 non-null  int64  \n",
            " 56  goalkeeping_diving          18278 non-null  int64  \n",
            " 57  goalkeeping_handling        18278 non-null  int64  \n",
            " 58  goalkeeping_kicking         18278 non-null  int64  \n",
            " 59  goalkeeping_positioning     18278 non-null  int64  \n",
            " 60  goalkeeping_reflexes        18278 non-null  int64  \n",
            "dtypes: float64(16), int64(45)\n",
            "memory usage: 8.5 MB\n"
          ],
          "name": "stdout"
        }
      ]
    },
    {
      "cell_type": "code",
      "metadata": {
        "colab": {
          "base_uri": "https://localhost:8080/",
          "height": 536
        },
        "id": "DaPwJ4-qQuyw",
        "outputId": "2e0a069f-4f12-4767-f4b6-08cb3eacb5be"
      },
      "source": [
        "df.head(10)"
      ],
      "execution_count": null,
      "outputs": [
        {
          "output_type": "execute_result",
          "data": {
            "text/html": [
              "<div>\n",
              "<style scoped>\n",
              "    .dataframe tbody tr th:only-of-type {\n",
              "        vertical-align: middle;\n",
              "    }\n",
              "\n",
              "    .dataframe tbody tr th {\n",
              "        vertical-align: top;\n",
              "    }\n",
              "\n",
              "    .dataframe thead th {\n",
              "        text-align: right;\n",
              "    }\n",
              "</style>\n",
              "<table border=\"1\" class=\"dataframe\">\n",
              "  <thead>\n",
              "    <tr style=\"text-align: right;\">\n",
              "      <th></th>\n",
              "      <th>sofifa_id</th>\n",
              "      <th>short_name</th>\n",
              "      <th>age</th>\n",
              "      <th>height_cm</th>\n",
              "      <th>weight_kg</th>\n",
              "      <th>nationality</th>\n",
              "      <th>club</th>\n",
              "      <th>overall</th>\n",
              "      <th>potential</th>\n",
              "      <th>value_eur</th>\n",
              "      <th>...</th>\n",
              "      <th>lwb</th>\n",
              "      <th>ldm</th>\n",
              "      <th>cdm</th>\n",
              "      <th>rdm</th>\n",
              "      <th>rwb</th>\n",
              "      <th>lb</th>\n",
              "      <th>lcb</th>\n",
              "      <th>cb</th>\n",
              "      <th>rcb</th>\n",
              "      <th>rb</th>\n",
              "    </tr>\n",
              "  </thead>\n",
              "  <tbody>\n",
              "    <tr>\n",
              "      <th>0</th>\n",
              "      <td>158023</td>\n",
              "      <td>L. Messi</td>\n",
              "      <td>32</td>\n",
              "      <td>170</td>\n",
              "      <td>72</td>\n",
              "      <td>Argentina</td>\n",
              "      <td>FC Barcelona</td>\n",
              "      <td>94</td>\n",
              "      <td>94</td>\n",
              "      <td>95500000</td>\n",
              "      <td>...</td>\n",
              "      <td>68+2</td>\n",
              "      <td>66+2</td>\n",
              "      <td>66+2</td>\n",
              "      <td>66+2</td>\n",
              "      <td>68+2</td>\n",
              "      <td>63+2</td>\n",
              "      <td>52+2</td>\n",
              "      <td>52+2</td>\n",
              "      <td>52+2</td>\n",
              "      <td>63+2</td>\n",
              "    </tr>\n",
              "    <tr>\n",
              "      <th>1</th>\n",
              "      <td>20801</td>\n",
              "      <td>Cristiano Ronaldo</td>\n",
              "      <td>34</td>\n",
              "      <td>187</td>\n",
              "      <td>83</td>\n",
              "      <td>Portugal</td>\n",
              "      <td>Juventus</td>\n",
              "      <td>93</td>\n",
              "      <td>93</td>\n",
              "      <td>58500000</td>\n",
              "      <td>...</td>\n",
              "      <td>65+3</td>\n",
              "      <td>61+3</td>\n",
              "      <td>61+3</td>\n",
              "      <td>61+3</td>\n",
              "      <td>65+3</td>\n",
              "      <td>61+3</td>\n",
              "      <td>53+3</td>\n",
              "      <td>53+3</td>\n",
              "      <td>53+3</td>\n",
              "      <td>61+3</td>\n",
              "    </tr>\n",
              "    <tr>\n",
              "      <th>2</th>\n",
              "      <td>190871</td>\n",
              "      <td>Neymar Jr</td>\n",
              "      <td>27</td>\n",
              "      <td>175</td>\n",
              "      <td>68</td>\n",
              "      <td>Brazil</td>\n",
              "      <td>Paris Saint-Germain</td>\n",
              "      <td>92</td>\n",
              "      <td>92</td>\n",
              "      <td>105500000</td>\n",
              "      <td>...</td>\n",
              "      <td>66+3</td>\n",
              "      <td>61+3</td>\n",
              "      <td>61+3</td>\n",
              "      <td>61+3</td>\n",
              "      <td>66+3</td>\n",
              "      <td>61+3</td>\n",
              "      <td>46+3</td>\n",
              "      <td>46+3</td>\n",
              "      <td>46+3</td>\n",
              "      <td>61+3</td>\n",
              "    </tr>\n",
              "    <tr>\n",
              "      <th>3</th>\n",
              "      <td>200389</td>\n",
              "      <td>J. Oblak</td>\n",
              "      <td>26</td>\n",
              "      <td>188</td>\n",
              "      <td>87</td>\n",
              "      <td>Slovenia</td>\n",
              "      <td>Atlético Madrid</td>\n",
              "      <td>91</td>\n",
              "      <td>93</td>\n",
              "      <td>77500000</td>\n",
              "      <td>...</td>\n",
              "      <td>NaN</td>\n",
              "      <td>NaN</td>\n",
              "      <td>NaN</td>\n",
              "      <td>NaN</td>\n",
              "      <td>NaN</td>\n",
              "      <td>NaN</td>\n",
              "      <td>NaN</td>\n",
              "      <td>NaN</td>\n",
              "      <td>NaN</td>\n",
              "      <td>NaN</td>\n",
              "    </tr>\n",
              "    <tr>\n",
              "      <th>4</th>\n",
              "      <td>183277</td>\n",
              "      <td>E. Hazard</td>\n",
              "      <td>28</td>\n",
              "      <td>175</td>\n",
              "      <td>74</td>\n",
              "      <td>Belgium</td>\n",
              "      <td>Real Madrid</td>\n",
              "      <td>91</td>\n",
              "      <td>91</td>\n",
              "      <td>90000000</td>\n",
              "      <td>...</td>\n",
              "      <td>66+3</td>\n",
              "      <td>63+3</td>\n",
              "      <td>63+3</td>\n",
              "      <td>63+3</td>\n",
              "      <td>66+3</td>\n",
              "      <td>61+3</td>\n",
              "      <td>49+3</td>\n",
              "      <td>49+3</td>\n",
              "      <td>49+3</td>\n",
              "      <td>61+3</td>\n",
              "    </tr>\n",
              "    <tr>\n",
              "      <th>5</th>\n",
              "      <td>192985</td>\n",
              "      <td>K. De Bruyne</td>\n",
              "      <td>28</td>\n",
              "      <td>181</td>\n",
              "      <td>70</td>\n",
              "      <td>Belgium</td>\n",
              "      <td>Manchester City</td>\n",
              "      <td>91</td>\n",
              "      <td>91</td>\n",
              "      <td>90000000</td>\n",
              "      <td>...</td>\n",
              "      <td>77+3</td>\n",
              "      <td>77+3</td>\n",
              "      <td>77+3</td>\n",
              "      <td>77+3</td>\n",
              "      <td>77+3</td>\n",
              "      <td>73+3</td>\n",
              "      <td>66+3</td>\n",
              "      <td>66+3</td>\n",
              "      <td>66+3</td>\n",
              "      <td>73+3</td>\n",
              "    </tr>\n",
              "    <tr>\n",
              "      <th>6</th>\n",
              "      <td>192448</td>\n",
              "      <td>M. ter Stegen</td>\n",
              "      <td>27</td>\n",
              "      <td>187</td>\n",
              "      <td>85</td>\n",
              "      <td>Germany</td>\n",
              "      <td>FC Barcelona</td>\n",
              "      <td>90</td>\n",
              "      <td>93</td>\n",
              "      <td>67500000</td>\n",
              "      <td>...</td>\n",
              "      <td>NaN</td>\n",
              "      <td>NaN</td>\n",
              "      <td>NaN</td>\n",
              "      <td>NaN</td>\n",
              "      <td>NaN</td>\n",
              "      <td>NaN</td>\n",
              "      <td>NaN</td>\n",
              "      <td>NaN</td>\n",
              "      <td>NaN</td>\n",
              "      <td>NaN</td>\n",
              "    </tr>\n",
              "    <tr>\n",
              "      <th>7</th>\n",
              "      <td>203376</td>\n",
              "      <td>V. van Dijk</td>\n",
              "      <td>27</td>\n",
              "      <td>193</td>\n",
              "      <td>92</td>\n",
              "      <td>Netherlands</td>\n",
              "      <td>Liverpool</td>\n",
              "      <td>90</td>\n",
              "      <td>91</td>\n",
              "      <td>78000000</td>\n",
              "      <td>...</td>\n",
              "      <td>79+3</td>\n",
              "      <td>83+3</td>\n",
              "      <td>83+3</td>\n",
              "      <td>83+3</td>\n",
              "      <td>79+3</td>\n",
              "      <td>81+3</td>\n",
              "      <td>87+3</td>\n",
              "      <td>87+3</td>\n",
              "      <td>87+3</td>\n",
              "      <td>81+3</td>\n",
              "    </tr>\n",
              "    <tr>\n",
              "      <th>8</th>\n",
              "      <td>177003</td>\n",
              "      <td>L. Modrić</td>\n",
              "      <td>33</td>\n",
              "      <td>172</td>\n",
              "      <td>66</td>\n",
              "      <td>Croatia</td>\n",
              "      <td>Real Madrid</td>\n",
              "      <td>90</td>\n",
              "      <td>90</td>\n",
              "      <td>45000000</td>\n",
              "      <td>...</td>\n",
              "      <td>81+3</td>\n",
              "      <td>81+3</td>\n",
              "      <td>81+3</td>\n",
              "      <td>81+3</td>\n",
              "      <td>81+3</td>\n",
              "      <td>79+3</td>\n",
              "      <td>72+3</td>\n",
              "      <td>72+3</td>\n",
              "      <td>72+3</td>\n",
              "      <td>79+3</td>\n",
              "    </tr>\n",
              "    <tr>\n",
              "      <th>9</th>\n",
              "      <td>209331</td>\n",
              "      <td>M. Salah</td>\n",
              "      <td>27</td>\n",
              "      <td>175</td>\n",
              "      <td>71</td>\n",
              "      <td>Egypt</td>\n",
              "      <td>Liverpool</td>\n",
              "      <td>90</td>\n",
              "      <td>90</td>\n",
              "      <td>80500000</td>\n",
              "      <td>...</td>\n",
              "      <td>70+3</td>\n",
              "      <td>67+3</td>\n",
              "      <td>67+3</td>\n",
              "      <td>67+3</td>\n",
              "      <td>70+3</td>\n",
              "      <td>66+3</td>\n",
              "      <td>57+3</td>\n",
              "      <td>57+3</td>\n",
              "      <td>57+3</td>\n",
              "      <td>66+3</td>\n",
              "    </tr>\n",
              "  </tbody>\n",
              "</table>\n",
              "<p>10 rows × 94 columns</p>\n",
              "</div>"
            ],
            "text/plain": [
              "   sofifa_id         short_name  age  height_cm  weight_kg  nationality  \\\n",
              "0     158023           L. Messi   32        170         72    Argentina   \n",
              "1      20801  Cristiano Ronaldo   34        187         83     Portugal   \n",
              "2     190871          Neymar Jr   27        175         68       Brazil   \n",
              "3     200389           J. Oblak   26        188         87     Slovenia   \n",
              "4     183277          E. Hazard   28        175         74      Belgium   \n",
              "5     192985       K. De Bruyne   28        181         70      Belgium   \n",
              "6     192448      M. ter Stegen   27        187         85      Germany   \n",
              "7     203376        V. van Dijk   27        193         92  Netherlands   \n",
              "8     177003          L. Modrić   33        172         66      Croatia   \n",
              "9     209331           M. Salah   27        175         71        Egypt   \n",
              "\n",
              "                  club  overall  potential  value_eur  ...   lwb   ldm   cdm  \\\n",
              "0         FC Barcelona       94         94   95500000  ...  68+2  66+2  66+2   \n",
              "1             Juventus       93         93   58500000  ...  65+3  61+3  61+3   \n",
              "2  Paris Saint-Germain       92         92  105500000  ...  66+3  61+3  61+3   \n",
              "3      Atlético Madrid       91         93   77500000  ...   NaN   NaN   NaN   \n",
              "4          Real Madrid       91         91   90000000  ...  66+3  63+3  63+3   \n",
              "5      Manchester City       91         91   90000000  ...  77+3  77+3  77+3   \n",
              "6         FC Barcelona       90         93   67500000  ...   NaN   NaN   NaN   \n",
              "7            Liverpool       90         91   78000000  ...  79+3  83+3  83+3   \n",
              "8          Real Madrid       90         90   45000000  ...  81+3  81+3  81+3   \n",
              "9            Liverpool       90         90   80500000  ...  70+3  67+3  67+3   \n",
              "\n",
              "    rdm   rwb    lb   lcb    cb   rcb    rb  \n",
              "0  66+2  68+2  63+2  52+2  52+2  52+2  63+2  \n",
              "1  61+3  65+3  61+3  53+3  53+3  53+3  61+3  \n",
              "2  61+3  66+3  61+3  46+3  46+3  46+3  61+3  \n",
              "3   NaN   NaN   NaN   NaN   NaN   NaN   NaN  \n",
              "4  63+3  66+3  61+3  49+3  49+3  49+3  61+3  \n",
              "5  77+3  77+3  73+3  66+3  66+3  66+3  73+3  \n",
              "6   NaN   NaN   NaN   NaN   NaN   NaN   NaN  \n",
              "7  83+3  79+3  81+3  87+3  87+3  87+3  81+3  \n",
              "8  81+3  81+3  79+3  72+3  72+3  72+3  79+3  \n",
              "9  67+3  70+3  66+3  57+3  57+3  57+3  66+3  \n",
              "\n",
              "[10 rows x 94 columns]"
            ]
          },
          "metadata": {
            "tags": []
          },
          "execution_count": 43
        }
      ]
    },
    {
      "cell_type": "code",
      "metadata": {
        "id": "H02CrxisUUNP"
      },
      "source": [
        "df['release_clause_eur'].fillna(df['release_clause_eur'].median,inplace=True)"
      ],
      "execution_count": null,
      "outputs": []
    },
    {
      "cell_type": "code",
      "metadata": {
        "id": "T9SvfwQHXG76"
      },
      "source": [
        "df['team_jersey_number'].replace(np.nan,0,inplace=True)"
      ],
      "execution_count": null,
      "outputs": []
    },
    {
      "cell_type": "markdown",
      "metadata": {
        "id": "x2uErQCyUUso"
      },
      "source": [
        "####Filling the  missing values of the goal keepers in the players section with value =0 "
      ]
    },
    {
      "cell_type": "code",
      "metadata": {
        "id": "tDKT4PJ-Q-Lf"
      },
      "source": [
        "df['pace'].fillna(value=0,inplace=True)"
      ],
      "execution_count": null,
      "outputs": []
    },
    {
      "cell_type": "code",
      "metadata": {
        "id": "MT93eCPsSPdt"
      },
      "source": [
        "df['shooting'].fillna(value=0,inplace=True)"
      ],
      "execution_count": null,
      "outputs": []
    },
    {
      "cell_type": "code",
      "metadata": {
        "id": "qwmvVE4NSPln"
      },
      "source": [
        "df['passing'].fillna(value=0,inplace=True)"
      ],
      "execution_count": null,
      "outputs": []
    },
    {
      "cell_type": "code",
      "metadata": {
        "id": "aIUfT8nYTJXM"
      },
      "source": [
        "df['dribbling'].fillna(value=0,inplace=True)"
      ],
      "execution_count": null,
      "outputs": []
    },
    {
      "cell_type": "code",
      "metadata": {
        "id": "_yYF9wuuTJZW"
      },
      "source": [
        "df['defending'].fillna(value=0,inplace=True)"
      ],
      "execution_count": null,
      "outputs": []
    },
    {
      "cell_type": "code",
      "metadata": {
        "id": "qIcRVYejnrcv"
      },
      "source": [
        "df['physic'].fillna(value=0,inplace=True)"
      ],
      "execution_count": null,
      "outputs": []
    },
    {
      "cell_type": "markdown",
      "metadata": {
        "id": "5wjZbeUmVTC4"
      },
      "source": [
        "#### Filling the missing values of players in the goal keeping section with value=0"
      ]
    },
    {
      "cell_type": "code",
      "metadata": {
        "id": "ZxChbJzuTM2m"
      },
      "source": [
        "df['gk_diving'].fillna(value=0,inplace=True)"
      ],
      "execution_count": null,
      "outputs": []
    },
    {
      "cell_type": "code",
      "metadata": {
        "id": "DkZAaGcqU2oQ"
      },
      "source": [
        "df['gk_handling'].fillna(value=0,inplace=True)"
      ],
      "execution_count": null,
      "outputs": []
    },
    {
      "cell_type": "code",
      "metadata": {
        "id": "egdSegp9U2qR"
      },
      "source": [
        "df['gk_kicking'].fillna(value=0,inplace=True)"
      ],
      "execution_count": null,
      "outputs": []
    },
    {
      "cell_type": "code",
      "metadata": {
        "id": "XV5oUSKoU2sw"
      },
      "source": [
        "df['gk_reflexes'].fillna(value=0,inplace=True)"
      ],
      "execution_count": null,
      "outputs": []
    },
    {
      "cell_type": "code",
      "metadata": {
        "id": "u4VMxe6GU2vK"
      },
      "source": [
        "df['gk_speed'].fillna(value=0,inplace=True)"
      ],
      "execution_count": null,
      "outputs": []
    },
    {
      "cell_type": "code",
      "metadata": {
        "id": "eINkKa3cU2xe"
      },
      "source": [
        "df['gk_positioning'].fillna(value=0,inplace=True)"
      ],
      "execution_count": null,
      "outputs": []
    },
    {
      "cell_type": "code",
      "metadata": {
        "colab": {
          "base_uri": "https://localhost:8080/"
        },
        "id": "CehKE08SRXL1",
        "outputId": "165b817a-79cc-45b1-c063-813425726981"
      },
      "source": [
        "cat_df.columns"
      ],
      "execution_count": null,
      "outputs": [
        {
          "output_type": "execute_result",
          "data": {
            "text/plain": [
              "Index(['player_url', 'short_name', 'long_name', 'dob', 'nationality', 'club',\n",
              "       'player_positions', 'preferred_foot', 'work_rate', 'body_type',\n",
              "       'real_face', 'player_tags', 'team_position', 'loaned_from', 'joined',\n",
              "       'nation_position', 'player_traits', 'ls', 'st', 'rs', 'lw', 'lf', 'cf',\n",
              "       'rf', 'rw', 'lam', 'cam', 'ram', 'lm', 'lcm', 'cm', 'rcm', 'rm', 'lwb',\n",
              "       'ldm', 'cdm', 'rdm', 'rwb', 'lb', 'lcb', 'cb', 'rcb', 'rb'],\n",
              "      dtype='object')"
            ]
          },
          "metadata": {
            "tags": []
          },
          "execution_count": 58
        }
      ]
    },
    {
      "cell_type": "code",
      "metadata": {
        "id": "GDRRv-7ga4G4"
      },
      "source": [
        "df['ls'].replace(np.nan,0,inplace=True)\n",
        "df['st'].fillna(value=0,inplace=True)\n",
        "df['rs'].fillna(value=0,inplace=True)\n",
        "df['lw'].fillna(value=0,inplace=True)\n",
        "df['lf'].fillna(value=0,inplace=True)\n",
        "df['cf'].fillna(value=0,inplace=True)\n",
        "df['rf'].fillna(value=0,inplace=True)\n",
        "df['rw'].fillna(value=0,inplace=True)\n",
        "df['lam'].fillna(value=0,inplace=True)\n",
        "df['cam'].fillna(value=0,inplace=True)\n",
        "df['ram'].fillna(value=0,inplace=True)\n",
        "df['lm'].fillna(value=0,inplace=True)\n",
        "df['lcm'].fillna(value=0,inplace=True)\n",
        "df['cm'].fillna(value=0,inplace=True)\n",
        "df['rcm'].fillna(value=0,inplace=True)\n",
        "df['rm'].fillna(value=0,inplace=True)\n",
        "df['lwb'].fillna(value=0,inplace=True)\n",
        "df['ldm'].fillna(value=0,inplace=True)\n",
        "df['cdm'].fillna(value=0,inplace=True)\n",
        "df['rdm'].fillna(value=0,inplace=True)\n",
        "df['rwb'].fillna(value=0,inplace=True)\n",
        "df['lb'].fillna(value=0,inplace=True)\n",
        "df['lcb'].fillna(value=0,inplace=True)\n",
        "df['cb'].fillna(value=0,inplace=True)\n",
        "df['rcb'].fillna(value=0,inplace=True)\n",
        "df['rb'].fillna(value=0,inplace=True)\n",
        "df['team_position'].replace(np.nan,'SUB',inplace=True)\n",
        "\n"
      ],
      "execution_count": null,
      "outputs": []
    },
    {
      "cell_type": "code",
      "metadata": {
        "colab": {
          "base_uri": "https://localhost:8080/",
          "height": 352
        },
        "id": "4CGGE0uHVG9e",
        "outputId": "f615f265-33b2-438c-a739-6d16ec3d89fb"
      },
      "source": [
        "fig,axes=plt.subplots(1,3,figsize=(18,5))\n",
        "sns.histplot(df['age'],ax=axes[0],color='r')\n",
        "sns.histplot(df['height_cm'],ax=axes[1],color='g')\n",
        "sns.histplot(df['weight_kg'],ax=axes[2],color='b')"
      ],
      "execution_count": null,
      "outputs": [
        {
          "output_type": "error",
          "ename": "AttributeError",
          "evalue": "module 'seaborn' has no attribute 'histplot'",
          "traceback": [
            "\u001b[1;31m---------------------------------------------------------------------------\u001b[0m",
            "\u001b[1;31mAttributeError\u001b[0m                            Traceback (most recent call last)",
            "\u001b[1;32m<ipython-input-64-74f2a00e56e4>\u001b[0m in \u001b[0;36m<module>\u001b[1;34m\u001b[0m\n\u001b[0;32m      1\u001b[0m \u001b[0mfig\u001b[0m\u001b[1;33m,\u001b[0m\u001b[0maxes\u001b[0m\u001b[1;33m=\u001b[0m\u001b[0mplt\u001b[0m\u001b[1;33m.\u001b[0m\u001b[0msubplots\u001b[0m\u001b[1;33m(\u001b[0m\u001b[1;36m1\u001b[0m\u001b[1;33m,\u001b[0m\u001b[1;36m3\u001b[0m\u001b[1;33m,\u001b[0m\u001b[0mfigsize\u001b[0m\u001b[1;33m=\u001b[0m\u001b[1;33m(\u001b[0m\u001b[1;36m18\u001b[0m\u001b[1;33m,\u001b[0m\u001b[1;36m5\u001b[0m\u001b[1;33m)\u001b[0m\u001b[1;33m)\u001b[0m\u001b[1;33m\u001b[0m\u001b[1;33m\u001b[0m\u001b[0m\n\u001b[1;32m----> 2\u001b[1;33m \u001b[0msns\u001b[0m\u001b[1;33m.\u001b[0m\u001b[0mhistplot\u001b[0m\u001b[1;33m(\u001b[0m\u001b[0mdf\u001b[0m\u001b[1;33m[\u001b[0m\u001b[1;34m'age'\u001b[0m\u001b[1;33m]\u001b[0m\u001b[1;33m,\u001b[0m\u001b[0max\u001b[0m\u001b[1;33m=\u001b[0m\u001b[0maxes\u001b[0m\u001b[1;33m[\u001b[0m\u001b[1;36m0\u001b[0m\u001b[1;33m]\u001b[0m\u001b[1;33m,\u001b[0m\u001b[0mcolor\u001b[0m\u001b[1;33m=\u001b[0m\u001b[1;34m'r'\u001b[0m\u001b[1;33m)\u001b[0m\u001b[1;33m\u001b[0m\u001b[1;33m\u001b[0m\u001b[0m\n\u001b[0m\u001b[0;32m      3\u001b[0m \u001b[0msns\u001b[0m\u001b[1;33m.\u001b[0m\u001b[0mhistplot\u001b[0m\u001b[1;33m(\u001b[0m\u001b[0mdf\u001b[0m\u001b[1;33m[\u001b[0m\u001b[1;34m'height_cm'\u001b[0m\u001b[1;33m]\u001b[0m\u001b[1;33m,\u001b[0m\u001b[0max\u001b[0m\u001b[1;33m=\u001b[0m\u001b[0maxes\u001b[0m\u001b[1;33m[\u001b[0m\u001b[1;36m1\u001b[0m\u001b[1;33m]\u001b[0m\u001b[1;33m,\u001b[0m\u001b[0mcolor\u001b[0m\u001b[1;33m=\u001b[0m\u001b[1;34m'g'\u001b[0m\u001b[1;33m)\u001b[0m\u001b[1;33m\u001b[0m\u001b[1;33m\u001b[0m\u001b[0m\n\u001b[0;32m      4\u001b[0m \u001b[0msns\u001b[0m\u001b[1;33m.\u001b[0m\u001b[0mhistplot\u001b[0m\u001b[1;33m(\u001b[0m\u001b[0mdf\u001b[0m\u001b[1;33m[\u001b[0m\u001b[1;34m'weight_kg'\u001b[0m\u001b[1;33m]\u001b[0m\u001b[1;33m,\u001b[0m\u001b[0max\u001b[0m\u001b[1;33m=\u001b[0m\u001b[0maxes\u001b[0m\u001b[1;33m[\u001b[0m\u001b[1;36m2\u001b[0m\u001b[1;33m]\u001b[0m\u001b[1;33m,\u001b[0m\u001b[0mcolor\u001b[0m\u001b[1;33m=\u001b[0m\u001b[1;34m'b'\u001b[0m\u001b[1;33m)\u001b[0m\u001b[1;33m\u001b[0m\u001b[1;33m\u001b[0m\u001b[0m\n",
            "\u001b[1;31mAttributeError\u001b[0m: module 'seaborn' has no attribute 'histplot'"
          ]
        },
        {
          "output_type": "display_data",
          "data": {
            "image/png": "[encoded data removed]",
            "text/plain": [
              "<Figure size 1296x360 with 3 Axes>"
            ]
          },
          "metadata": {
            "tags": [],
            "needs_background": "light"
          }
        }
      ]
    },
    {
      "cell_type": "markdown",
      "metadata": {
        "id": "4ieA3tMy8IhZ"
      },
      "source": [
        "Histogram plot of Age, Weight and Height"
      ]
    },
    {
      "cell_type": "code",
      "metadata": {
        "id": "EJktdtAaVpiU"
      },
      "source": [
        "top10wage=df['wage_eur'].sort_values(ascending=False).head(10)\n",
        "top10wageplayers=print(df['short_name'][0],df['short_name'][4],df['short_name'][1],df['short_name'][5],df['short_name'][22],df['short_name'][19],df['short_name'][8],df['short_name'][36],df['short_name'][21],df['short_name'][18])\n",
        "top10wageplayers\n",
        "\n",
        "plt.figure(figsize=(15,6))\n",
        "lst=['L. Messi', 'E. Hazard', 'Cristiano Ronaldo', 'K. De Bruyne', 'A. Griezmann', 'L. Suárez', 'L. Modrić', 'T. Kroos', 'Sergio Busquets', 'Sergio Ramos']\n",
        "ax1=sns.barplot(top10wage,lst)\n",
        "ax1.set_title(label='Histogram for the Overall Scores of the Players',fontsize=20)"
      ],
      "execution_count": null,
      "outputs": []
    },
    {
      "cell_type": "markdown",
      "metadata": {
        "id": "OaIQy4OX8Iha"
      },
      "source": [
        "\n",
        "From the above graph we can see that Messi,Hazard and Ronaldo are the top 3 players with the highest wage"
      ]
    },
    {
      "cell_type": "code",
      "metadata": {
        "id": "0lIidBmFu-cG"
      },
      "source": [
        "top10value=df['value_eur'].sort_values(ascending=False).head(10)\n",
        "top10value\n",
        "top10valueplayers=print(df['short_name'][2],df['short_name'][0],df['short_name'][10],df['short_name'][4],df['short_name'][5],df['short_name'][12],df['short_name'][9],df['short_name'][7],df['short_name'][3],df['short_name'][23])\n",
        "top10valueplayers\n",
        "\n",
        "plt.figure(figsize=(15,6))\n",
        "lst1=['Neymar Jr', 'L. Messi', 'K. Mbappé', 'E. Hazard', 'K. De Bruyne', 'H. Kane', 'M. Salah', 'V. van Dijk', 'J. Oblak', 'P. Dybala']\n",
        "ax2=sns.barplot(top10value,lst1)\n",
        "ax2.set_title(label='Plot of Top 10 valued players',fontsize=20)"
      ],
      "execution_count": null,
      "outputs": []
    },
    {
      "cell_type": "markdown",
      "metadata": {
        "id": "Wur8TATs8Iha"
      },
      "source": [
        " From  the above graph, we can see that Neymar and Messi are the top 2 players having more value"
      ]
    },
    {
      "cell_type": "code",
      "metadata": {
        "id": "0JS7C4368Ihb"
      },
      "source": [
        "plt.figure(figsize= (15,8))\n",
        "\n",
        "ax = sns.countplot(x='preferred_foot', data=df)\n",
        "ax.set_title(label='Count of Players by Preferred foot', fontsize=20)\n",
        "\n",
        "ax.set_xlabel(xlabel='Preffered foot')\n",
        "ax.set_ylabel(ylabel='Count')\n",
        "\n",
        "plt.show()\n"
      ],
      "execution_count": null,
      "outputs": []
    },
    {
      "cell_type": "markdown",
      "metadata": {
        "id": "0fSR-wwv8Ihb"
      },
      "source": [
        "From the above countpolt, wee can see that majority of the palyers are right footed."
      ]
    },
    {
      "cell_type": "code",
      "metadata": {
        "id": "5-WfFMo98Ihb"
      },
      "source": [
        "plt.figure(figsize= (19,8))\n",
        "\n",
        "ax = sns.countplot(x='age', data=df)\n",
        "ax.set_title(label='Count of Players by age', fontsize=20)\n",
        "\n",
        "ax.set_xlabel(xlabel='age')\n",
        "ax.set_ylabel(ylabel='Count')\n",
        "\n",
        "plt.show()"
      ],
      "execution_count": null,
      "outputs": []
    },
    {
      "cell_type": "markdown",
      "metadata": {
        "id": "c5uPHXok8Ihb"
      },
      "source": [
        "From the above countplot, we can say that majority of the players are aged between 20 to 27"
      ]
    },
    {
      "cell_type": "code",
      "metadata": {
        "id": "lZiG6s_VvbI-"
      },
      "source": [
        "fig,axes=plt.subplots(2,1,figsize=(25,10))\n",
        "ax=sns.countplot(df['height_cm'],ax=axes[0])\n",
        "ax.set(xlabel=\"height in cm\", ylabel = \"count of players\",title=\"Count of players on the basis of height\")\n",
        "\n",
        "ax=sns.countplot(df['weight_kg'],ax=axes[1])\n",
        "ax.set(xlabel=\"weight in kgs\", ylabel = \"count of players\",title=\"Count of players on the basis of weight\")"
      ],
      "execution_count": null,
      "outputs": []
    },
    {
      "cell_type": "markdown",
      "metadata": {
        "id": "ypCFZsZD8Ihc"
      },
      "source": [
        "Here we can see the majority of the players are with the height of 180cm and weight of 70kg"
      ]
    },
    {
      "cell_type": "code",
      "metadata": {
        "id": "tdls3TdA_xbS"
      },
      "source": [
        "plt.figure(figsize=(15,6))\n",
        "ax=sns.histplot(df['overall'])\n",
        "ax.set_xlabel(xlabel='Overall score range',fontsize=15)\n",
        "ax.set_ylabel(ylabel = \"count of players\",fontsize=15)\n",
        "ax.set_title(label='Histogram for the Overall Scores of the Players',fontsize=20)"
      ],
      "execution_count": null,
      "outputs": []
    },
    {
      "cell_type": "markdown",
      "metadata": {
        "id": "XtLLqVLsxqDG"
      },
      "source": [
        "##Histogram of Potential of the players\n",
        "*From this graph we can see that majority of the people are having the potential score 0f 70*"
      ]
    },
    {
      "cell_type": "code",
      "metadata": {
        "id": "anzqyyCjxlFb"
      },
      "source": [
        "plt.figure(figsize=(15,6))\n",
        "ax=sns.histplot(df['potential'])\n",
        "ax.set_xlabel(xlabel='potential range',fontsize=15)\n",
        "ax.set_ylabel(ylabel = \"count of players\",fontsize=15)\n",
        "ax.set_title(label='Histogram for the potential of the Players',fontsize=20)"
      ],
      "execution_count": null,
      "outputs": []
    },
    {
      "cell_type": "markdown",
      "metadata": {
        "id": "YBAj5zxX8Ihc"
      },
      "source": [
        "From the above Histogram, We can see that average of overall score of players is 64"
      ]
    },
    {
      "cell_type": "code",
      "metadata": {
        "id": "1K73tCgd_9Pu"
      },
      "source": [
        "plt.figure(figsize=(15,6))\n",
        "some_countries = ('England', 'Germany', 'Spain', 'Argentina', 'France', 'Brazil', 'Italy', 'Columbia','United States','Russia','Portugal','Hungary','Canada')\n",
        "countries = df.loc[df['nationality'].isin(some_countries) & df['overall']]\n",
        "\n",
        "ax=sns.boxplot(countries['nationality'],countries['overall'])\n",
        "ax.set_xlabel(xlabel = 'Countries', fontsize = 9)\n",
        "ax.set_ylabel(ylabel = 'Overall Scores', fontsize = 9)\n",
        "ax.set_title(label = 'Distribution of overall scores of players from different countries', fontsize = 20)"
      ],
      "execution_count": null,
      "outputs": []
    },
    {
      "cell_type": "markdown",
      "metadata": {
        "id": "Sx4saCDj8Ihd"
      },
      "source": [
        "From the above Boxplot we can observe the distribution of overaal scores of palyers grouped according to their country."
      ]
    },
    {
      "cell_type": "code",
      "metadata": {
        "id": "dodTeEmDAFCi"
      },
      "source": [
        "plt.figure(figsize=(15,6))\n",
        "some_clubs = ('FC Barcelona','Arsenal','Paris Saint-Germain','Liverpool','Manchester United','Juventus','Viking FK','Atlético Madrid','Atlético Huila','Real Madrid','Chelsea','Manchester city','Crystal Palace''Lazio')\n",
        "club = df.loc[df['club'].isin(some_clubs) & df['overall']]\n",
        "\n",
        "ax=sns.barplot(club['club'],club['overall'])\n",
        "ax.set_xlabel(xlabel = 'Clubs', fontsize = 9)\n",
        "ax.set_ylabel(ylabel = 'Overall Scores', fontsize = 9)\n",
        "ax.set_title(label = 'Distribution of overall scores of players from different clubs', fontsize = 20)"
      ],
      "execution_count": null,
      "outputs": []
    },
    {
      "cell_type": "markdown",
      "metadata": {
        "id": "XUQyuDhz8Ihd"
      },
      "source": [
        "From the above plot we can observe the distribution of overaal scores of palyers grouped according to their Club."
      ]
    },
    {
      "cell_type": "code",
      "metadata": {
        "id": "PSLqJRoeAoEo"
      },
      "source": [
        "counts_club = df[\"club\"].value_counts()\n",
        "counts_club = counts_club.reset_index()\n",
        "counts_club.columns= [\"clubs\",\"Counts\"]\n",
        "counts_club.head()\n",
        "sns.catplot(y=\"clubs\",x=\"Counts\",data=counts_club.head(25),height=10,kind=\"bar\")\n",
        "plt.title(\"Club Wise Players Counts\",fontsize=50);"
      ],
      "execution_count": null,
      "outputs": []
    },
    {
      "cell_type": "markdown",
      "metadata": {
        "id": "6x_LdKKH8Ihe"
      },
      "source": [
        "From the above plot, we can observe that all the clubs contain same number of players"
      ]
    },
    {
      "cell_type": "code",
      "metadata": {
        "id": "E-AQ1zpqA0Xj"
      },
      "source": [
        "avgwageoverall = df.groupby(\"club\", as_index=False)[\"wage_eur\",\"overall\"].mean()\n",
        "avgwageoverall.sort_values(by=\"wage_eur\",inplace=True,ascending=False)\n",
        "top10bywage = avgwageoverall.iloc[0:15,:]\n",
        "sns.catplot(y=\"club\", x=\"wage_eur\",data=top10bywage,height=6,kind=\"bar\",aspect=2)\n",
        "plt.title(\"Top 15 clubs with highest mean Wage\")"
      ],
      "execution_count": null,
      "outputs": []
    },
    {
      "cell_type": "markdown",
      "metadata": {
        "id": "Wm9EqnG98Ihe"
      },
      "source": [
        "From this graph we can say that Real Madrid,FC Barcelona,Manchester city are the top 3 clubs which has the highest mean wage"
      ]
    },
    {
      "cell_type": "code",
      "metadata": {
        "id": "07vFC2lT8Ihe"
      },
      "source": [
        "\n",
        "plt.figure(figsize= (19,8))\n",
        "\n",
        "ax = sns.countplot(x='overall', data=df)\n",
        "ax.set_title(label='Count of Players by overall', fontsize=20)\n",
        "\n",
        "ax.set_xlabel(xlabel='Overall')\n",
        "ax.set_ylabel(ylabel='Count')\n",
        "\n",
        "plt.show()"
      ],
      "execution_count": null,
      "outputs": []
    },
    {
      "cell_type": "markdown",
      "metadata": {
        "id": "GGbiO3ac8Ihe"
      },
      "source": [
        "From the above Histogram, we can see that maximum number of players with score between 64 to 66 "
      ]
    },
    {
      "cell_type": "code",
      "metadata": {
        "id": "xHeBlbFXa4D8"
      },
      "source": [
        "df.head()"
      ],
      "execution_count": null,
      "outputs": []
    },
    {
      "cell_type": "markdown",
      "metadata": {
        "id": "gT82Orb9Bpry"
      },
      "source": [
        "## Label Encoding"
      ]
    },
    {
      "cell_type": "code",
      "metadata": {
        "id": "8mPhJuRqeRfw"
      },
      "source": [
        "from sklearn.preprocessing import LabelEncoder\n",
        "label=LabelEncoder()\n",
        "new_df=df.copy()\n",
        "new_df[[ 'short_name','nationality', 'club',\n",
        "       'player_positions', 'preferred_foot', 'work_rate', 'body_type',\n",
        "       'real_face', 'team_position']]=new_df[[ 'short_name','nationality', 'club',\n",
        "       'player_positions', 'preferred_foot', 'work_rate', 'body_type',\n",
        "       'real_face', 'team_position']].apply(label.fit_transform)\n",
        "\n"
      ],
      "execution_count": null,
      "outputs": []
    },
    {
      "cell_type": "code",
      "metadata": {
        "id": "53SLsqQRoMkt"
      },
      "source": [
        "df['short_name']=label.fit_transform(df['short_name'])\n",
        "df['nationality']=label.fit_transform(df['nationality'])\n",
        "df['club']=label.fit_transform(df['club'])\n",
        "df['player_positions']=label.fit_transform(df['player_positions'])\n",
        "df['preferred_foot']=label.fit_transform(df['preferred_foot'])\n",
        "df['work_rate']=label.fit_transform(df['work_rate'])\n",
        "df['body_type']=label.fit_transform(df['body_type'])\n",
        "df['real_face']=label.fit_transform(df['real_face'])\n",
        "df['team_position']=label.fit_transform(df['team_position'])\n"
      ],
      "execution_count": null,
      "outputs": []
    },
    {
      "cell_type": "code",
      "metadata": {
        "id": "U0Eus2LohskS"
      },
      "source": [
        "df.head(5)"
      ],
      "execution_count": null,
      "outputs": []
    },
    {
      "cell_type": "code",
      "metadata": {
        "id": "-vuuDIP3pe_G"
      },
      "source": [
        "pd.set_option('display.max_columns',None)\n",
        "new_df.head(10)"
      ],
      "execution_count": null,
      "outputs": []
    },
    {
      "cell_type": "code",
      "metadata": {
        "id": "7puAINz0Pka2"
      },
      "source": [
        "delete=new_df[['ls','st', 'rs', 'lw', 'lf', 'cf',\n",
        "       'rf', 'rw', 'lam', 'cam', 'ram', 'lm', 'lcm', 'cm', 'rcm', 'rm', 'lwb',\n",
        "       'ldm', 'cdm', 'rdm', 'rwb', 'lb', 'lcb', 'cb', 'rcb', 'rb','release_clause_eur']]\n"
      ],
      "execution_count": null,
      "outputs": []
    },
    {
      "cell_type": "code",
      "metadata": {
        "id": "wgnfe9J_P06y"
      },
      "source": [
        "new_df.drop(delete,axis=1,inplace=True)"
      ],
      "execution_count": null,
      "outputs": []
    },
    {
      "cell_type": "code",
      "metadata": {
        "id": "YZvP_IRiQ0aO"
      },
      "source": [
        "new_df.shape"
      ],
      "execution_count": null,
      "outputs": []
    },
    {
      "cell_type": "code",
      "metadata": {
        "id": "ScwVAu3rQ2Am"
      },
      "source": [
        "new_df.head()"
      ],
      "execution_count": null,
      "outputs": []
    },
    {
      "cell_type": "markdown",
      "metadata": {
        "id": "f6VQFLPtBjyU"
      },
      "source": [
        "## Removing outliers using zscore"
      ]
    },
    {
      "cell_type": "code",
      "metadata": {
        "id": "hqlGpyFP7wlk"
      },
      "source": [
        "from  scipy import stats\n",
        "z=np.abs(stats.zscore(new_df))\n",
        "z\n",
        "\n",
        "threshold=4\n",
        "print(np.where(z>3))\n",
        "\n",
        "new_dff=new_df[(z<3).all(axis=1)]\n",
        "new_dff.shape"
      ],
      "execution_count": null,
      "outputs": []
    },
    {
      "cell_type": "markdown",
      "metadata": {
        "id": "p4isQ9WYBe7v"
      },
      "source": [
        "## Applying correlation for feature selection"
      ]
    },
    {
      "cell_type": "code",
      "metadata": {
        "id": "LyvnObIvRsH9"
      },
      "source": [
        "def correlation(dataset,threshold):\n",
        "  col_corr=set()\n",
        "  corr_matrix=dataset.corr()\n",
        "  for i in range (len(corr_matrix.columns)):\n",
        "    for j in range (i):\n",
        "      if (corr_matrix.iloc[i,j])>=threshold:\n",
        "        col_name=corr_matrix.columns[i]\n",
        "        col_corr.add(col_name)\n",
        "  return col_corr"
      ],
      "execution_count": null,
      "outputs": []
    },
    {
      "cell_type": "code",
      "metadata": {
        "id": "ZlY1bhrKRuAC"
      },
      "source": [
        "corr_features=correlation(new_dff,0.8)\n",
        "len(corr_features)"
      ],
      "execution_count": null,
      "outputs": []
    },
    {
      "cell_type": "code",
      "metadata": {
        "id": "NlKub3b9RuJ3"
      },
      "source": [
        "corr_features"
      ],
      "execution_count": null,
      "outputs": []
    },
    {
      "cell_type": "code",
      "metadata": {
        "id": "79UrYs9WRuMX"
      },
      "source": [
        "new_dff.drop(corr_features,axis=1,inplace=True)"
      ],
      "execution_count": null,
      "outputs": []
    },
    {
      "cell_type": "code",
      "metadata": {
        "id": "X6mp797ZRuOR"
      },
      "source": [
        "new_dff"
      ],
      "execution_count": null,
      "outputs": []
    },
    {
      "cell_type": "code",
      "metadata": {
        "id": "YoMZFplH1ypE"
      },
      "source": [
        "names = new_dff.short_name.tolist() \n",
        "nationality=new_dff.nationality.tolist()\n",
        "overall=new_dff.overall.to_list()\n",
        "value_eur=new_dff.value_eur.to_list()\n",
        "age=new_dff.age.to_list()\n",
        "team_position=new_dff.team_position.to_list()\n",
        "international_reputation=new_dff.international_reputation.to_list()\n",
        "club=new_dff.club.to_list()\n",
        "#wage_eur=new_dff.wage_eur.to_list()\n",
        "preferred_foot=new_dff.preferred_foot.to_list()\n",
        "work_rate=new_dff.work_rate.to_list()\n",
        "weak_foot=new_dff.weak_foot.to_list()\n",
        "skill_moves=new_dff.skill_moves.to_list()\n",
        "height_cm=new_dff.height_cm.to_list()\n",
        "weight_kg=new_dff.weight_kg.to_list()\n",
        "#physic=new_dff.physic.to_list()\n",
        "defending=new_dff.defending.to_list()\n",
        "#dribbling=new_dff.dribbling.to_list()\n",
        "shooting=new_dff.shooting.to_list()\n",
        "gk_diving=new_dff.gk_diving.to_list()\n",
        "power_stamina=new_dff.power_stamina.to_list()\n",
        "attacking_heading_accuracy=new_dff.attacking_heading_accuracy.to_list()\n"
      ],
      "execution_count": null,
      "outputs": []
    },
    {
      "cell_type": "markdown",
      "metadata": {
        "id": "bOv_9LTJBRGK"
      },
      "source": [
        "# Feature scaling"
      ]
    },
    {
      "cell_type": "code",
      "metadata": {
        "id": "oxoUzQplScTD"
      },
      "source": [
        "from sklearn import preprocessing\n",
        "new_df=new_df.values # numpy array\n",
        "scaler = preprocessing.StandardScaler()\n",
        "x_scaled = scaler.fit_transform(new_dff)\n",
        "X_norm = pd.DataFrame(x_scaled)"
      ],
      "execution_count": null,
      "outputs": []
    },
    {
      "cell_type": "markdown",
      "metadata": {
        "id": "X6kcB6ERBF2L"
      },
      "source": [
        "# Dimensionality redicuction by PCA"
      ]
    },
    {
      "cell_type": "code",
      "metadata": {
        "id": "pF-koG0NWRWJ"
      },
      "source": [
        "from sklearn.decomposition import PCA\n",
        "pca = PCA(n_components = 2) # 2D PCA for the plot\n",
        "reduced = pd.DataFrame(pca.fit_transform(X_norm))"
      ],
      "execution_count": null,
      "outputs": []
    },
    {
      "cell_type": "code",
      "metadata": {
        "id": "y6rfoJAAmHdF"
      },
      "source": [
        "reduced"
      ],
      "execution_count": null,
      "outputs": []
    },
    {
      "cell_type": "markdown",
      "metadata": {
        "id": "_Z-JR1WJxVJ_"
      },
      "source": [
        "##Elbow method to know the optimum number of clusters"
      ]
    },
    {
      "cell_type": "markdown",
      "metadata": {
        "id": "w2oSRBPV8Ihk"
      },
      "source": [
        "# Elbow method"
      ]
    },
    {
      "cell_type": "code",
      "metadata": {
        "id": "t_B3Nl479NFK"
      },
      "source": [
        "#finding optimal number of clusters\n",
        "from sklearn.cluster import KMeans\n",
        "\n",
        "wcss=[]     #within cluster sum of squares   \n",
        "\n",
        "for i in range(1,10):  #cluster value might be 2 3 5\n",
        "  model=KMeans(n_clusters=i)   #kmeans(3 or 4 or 2)\n",
        "  model.fit(reduced)\n",
        "  model.predict(reduced)\n",
        "  wcss_iter=model.inertia_   #inertia gives the sum of squares within cluster\n",
        "  wcss.append(wcss_iter)      \n",
        "\n",
        "wcss"
      ],
      "execution_count": null,
      "outputs": []
    },
    {
      "cell_type": "code",
      "metadata": {
        "id": "-fP7YrOn9Y4N"
      },
      "source": [
        "plt.plot(range(1,10),wcss,marker='*')\n",
        "plt.xlabel('longitude')\n",
        "plt.ylabel('latitude')\n",
        "plt.title('')"
      ],
      "execution_count": null,
      "outputs": []
    },
    {
      "cell_type": "code",
      "metadata": {
        "id": "2RxNi8U8ehfC"
      },
      "source": [
        "from sklearn.cluster import KMeans"
      ],
      "execution_count": null,
      "outputs": []
    },
    {
      "cell_type": "code",
      "metadata": {
        "id": "5607hDoLehhn"
      },
      "source": [
        "model=KMeans(n_clusters=4)   #default n cluster size is 2"
      ],
      "execution_count": null,
      "outputs": []
    },
    {
      "cell_type": "code",
      "metadata": {
        "id": "CeCWVKKFehjz"
      },
      "source": [
        "model.fit(reduced)"
      ],
      "execution_count": null,
      "outputs": []
    },
    {
      "cell_type": "code",
      "metadata": {
        "id": "bQbbaYNUehmC"
      },
      "source": [
        "clusters=model.predict(reduced)"
      ],
      "execution_count": null,
      "outputs": []
    },
    {
      "cell_type": "code",
      "metadata": {
        "id": "7az0kGLFehqb"
      },
      "source": [
        "clusters"
      ],
      "execution_count": null,
      "outputs": []
    },
    {
      "cell_type": "code",
      "metadata": {
        "id": "-JMQ7vLDOIOw"
      },
      "source": [
        "reduced['cluster'] = clusters\n",
        "reduced['name'] = names\n",
        "reduced['nationality']=nationality\n",
        "reduced['overall']=overall\n",
        "reduced['value_eur']=value_eur\n",
        "reduced['international_reputation']=international_reputation\n",
        "reduced['age']=age\n",
        "reduced['team_position']=team_position\n",
        "reduced['club'] = club\n",
        "reduced['preferred_foot'] = preferred_foot\n",
        "reduced['work_rate'] = work_rate\n",
        "reduced['weak_foot'] = weak_foot\n",
        "reduced['skill_moves'] = skill_moves\n",
        "reduced['height_cm'] = height_cm\n",
        "reduced['weight_kg'] = weight_kg\n",
        "reduced['defending'] = defending\n",
        "reduced['shooting'] = shooting\n",
        "reduced['gk_diving'] = gk_diving\n",
        "reduced['power_stamina'] = power_stamina\n",
        "reduced['attacking_heading_accuracy'] = attacking_heading_accuracy\n",
        "\n",
        "\n",
        "shooting=new_dff.shooting.to_list()\n",
        "gk_diving=new_dff.gk_diving.to_list()\n",
        "power_stamina=new_dff.power_stamina.to_list()\n",
        "attacking_heading_accuracy=new_dff.attacking_heading_accuracy.to_list()\n",
        "\n",
        "reduced.columns = ['x', 'y', 'cluster','name','nationality','overall','value_eur','international_reputation','age','team_position','club','preferred_foot','work_rate','weak_foot','skill_moves','height_cm','weight_kg','defending','shooting','gk_diving','power_stamina','attacking_heading_accuracy']\n",
        "reduced.head()"
      ],
      "execution_count": null,
      "outputs": []
    },
    {
      "cell_type": "code",
      "metadata": {
        "id": "0H_Eurp45tfC"
      },
      "source": [
        "fig,ax=plt.subplots(figsize=(6,5))\n",
        "ax.scatter(reduced['x'],reduced['y'],c=clusters)"
      ],
      "execution_count": null,
      "outputs": []
    },
    {
      "cell_type": "markdown",
      "metadata": {
        "id": "WbWCF2Sa8Ihm"
      },
      "source": [
        "From the above plot, we can see that players are clusterd in 4 clusters"
      ]
    },
    {
      "cell_type": "markdown",
      "metadata": {
        "id": "avfW9ADJxF6a"
      },
      "source": [
        "# Model Evaluation"
      ]
    },
    {
      "cell_type": "code",
      "metadata": {
        "id": "yUMRzl_nddsj"
      },
      "source": [
        "from sklearn.metrics import silhouette_score\n",
        "x=reduced.iloc[:,:2]\n",
        "silhouette_score(x,clusters)\n",
        "silhouette_score(x,labels=clusters,metric='euclidean')"
      ],
      "execution_count": null,
      "outputs": []
    },
    {
      "cell_type": "markdown",
      "metadata": {
        "id": "Z8zwFRobN1oj"
      },
      "source": [
        "##Dividing the clusters for visualization"
      ]
    },
    {
      "cell_type": "code",
      "metadata": {
        "id": "7_5z9dIMl1-n"
      },
      "source": [
        "cluster0= reduced[reduced.cluster==0]\n",
        "cluster1= reduced[reduced.cluster==1]\n",
        "cluster2= reduced[reduced.cluster==2]\n",
        "cluster3= reduced[reduced.cluster==1]"
      ],
      "execution_count": null,
      "outputs": []
    },
    {
      "cell_type": "markdown",
      "metadata": {
        "id": "cFgo20SrG9GP"
      },
      "source": [
        "##Scatter plot of cluster vs overall\n",
        "*Here we can see the distribution of players with overall scores in each cluster*"
      ]
    },
    {
      "cell_type": "code",
      "metadata": {
        "id": "C9uscAOXG2c_"
      },
      "source": [
        "fig = go.Figure(data=go.Scatter(\n",
        "    x = reduced['cluster'],\n",
        "    y = reduced['overall'],\n",
        "    mode='markers',\n",
        "    marker=dict(\n",
        "        color=reduced['overall'], \n",
        "        showscale=True\n",
        "    ),\n",
        "    text= reduced['name'],\n",
        "))\n",
        "\n",
        "fig.update_layout(title='cluster vs Overall Rating',\n",
        "                  xaxis_title='cluster',\n",
        "                  yaxis_title='Overall Rating')\n",
        "fig.show()"
      ],
      "execution_count": null,
      "outputs": []
    },
    {
      "cell_type": "markdown",
      "metadata": {
        "id": "Ig1x7u8nN8W-"
      },
      "source": [
        "##Scatter plot of clusters"
      ]
    },
    {
      "cell_type": "code",
      "metadata": {
        "id": "TbZ0d-27Nuwu"
      },
      "source": [
        "\n",
        "import plotly.graph_objs as go\n",
        "\n",
        "fig, ax = plt.subplots(1,4, figsize=(20, 6))\n",
        "ax[0].scatter(x=cluster0['x'],y=cluster0['y'],c=cluster0['cluster'],cmap='RdYlBu')\n",
        "ax[0].set_xlabel(\"cluster 0\")\n",
        "\n",
        "ax[1].scatter(x=cluster1['x'],y=cluster1['y'],c=cluster1['cluster'],cmap='summer')\n",
        "ax[1].set_xlabel(\"cluster 1\")\n",
        "\n",
        "ax[2].scatter(x=cluster2['x'],y=cluster2['y'],c=cluster2['cluster'],cmap='winter')\n",
        "ax[2].set_xlabel(\"cluster 2\")\n",
        "\n",
        "ax[3].scatter(x=cluster3['x'],y=cluster3['y'],c=cluster3['cluster'],cmap='PRGn')\n",
        "ax[3].set_xlabel(\"cluster 3\")\n",
        "\n",
        "plt.show()"
      ],
      "execution_count": null,
      "outputs": []
    },
    {
      "cell_type": "markdown",
      "metadata": {
        "id": "dnrfLWAyOEUS"
      },
      "source": [
        "##Count of players by overall in each cluster"
      ]
    },
    {
      "cell_type": "code",
      "metadata": {
        "id": "X0w9yKKTAbfi"
      },
      "source": [
        "import plotly.graph_objs as go\n",
        "\n",
        "\n",
        "fig,axes=plt.subplots(2,2,figsize=(30,10))\n",
        "ax=sns.countplot(cluster0['overall'],ax=axes[0][0])\n",
        "ax.set(xlabel=\"overall\", ylabel = \"count of players\",title=\"Count of players on the basis of overall in cluster 0\")\n",
        "\n",
        "ax=sns.countplot(cluster1['overall'],ax=axes[0][1])\n",
        "ax.set(xlabel=\"overall\", ylabel = \"count of players\",title=\"Count of players on the basis of overall in cluster 1\")\n",
        "\n",
        "ax=sns.countplot(cluster2['overall'],ax=axes[1][0])\n",
        "ax.set(xlabel=\"overall\", ylabel = \"count of players\",title=\"Count of players on the basis of overall in cluster 2\")\n",
        "\n",
        "ax=sns.countplot(cluster3['overall'],ax=axes[1][1])\n",
        "ax.set(xlabel=\"overall\", ylabel = \"count of players\",title=\"Count of players on the basis of overall in cluster 3\")\n",
        "\n"
      ],
      "execution_count": null,
      "outputs": []
    },
    {
      "cell_type": "markdown",
      "metadata": {
        "id": "1yyaICWkq11k"
      },
      "source": [
        "##Count of the players on the basis of AGE in each cluster"
      ]
    },
    {
      "cell_type": "markdown",
      "metadata": {
        "id": "fx_IgJmNAAtb"
      },
      "source": [
        ""
      ]
    },
    {
      "cell_type": "code",
      "metadata": {
        "id": "edAE3XWSOHLp"
      },
      "source": [
        "\n",
        "fig,axes=plt.subplots(2,2,figsize=(35,10))\n",
        "ax=sns.countplot(cluster0['age'],ax=axes[0][0])\n",
        "ax.set(xlabel=\"age\", ylabel = \"count of players\",title=\"Count of players on the basis of age in cluster 0\")\n",
        "\n",
        "ax=sns.countplot(cluster1['age'],ax=axes[0][1])\n",
        "ax.set(xlabel=\"age\", ylabel = \"count of players\",title=\"Count of players on the basis of age in cluster 1\")\n",
        "\n",
        "ax=sns.countplot(cluster2['age'],ax=axes[1][0])\n",
        "ax.set(xlabel=\"age\", ylabel = \"count of players\",title=\"Count of players on the basis of age in cluster 2\")\n",
        "\n",
        "ax=sns.countplot(cluster3['age'],ax=axes[1][1])\n",
        "ax.set(xlabel=\"age\", ylabel = \"count of players\",title=\"Count of players on the basis of age in cluster 3\")"
      ],
      "execution_count": null,
      "outputs": []
    },
    {
      "cell_type": "markdown",
      "metadata": {
        "id": "zYClwVsGpr8z"
      },
      "source": [
        "##Count of the players on the basis of Gk_diving in each cluster\n",
        "*Here we can see There is only variations in the graph for the cluster with goalkeepers because the attribute we have given here is of the goal keeper*\n",
        "\n",
        "\n",
        "*From this we can get to know which cluster contains goalkeeper*"
      ]
    },
    {
      "cell_type": "code",
      "metadata": {
        "id": "85hSbuR4Z31G"
      },
      "source": [
        "\n",
        "fig,axes=plt.subplots(1,4,figsize=(30,5))\n",
        "ax=sns.countplot(cluster0['gk_diving'],ax=axes[0])\n",
        "ax.set(xlabel=\"overall\", ylabel = \"count of players\",title=\"Count of players on the basis of gk_diving in cluster 0\")\n",
        "\n",
        "ax=sns.countplot(cluster1['gk_diving'],ax=axes[1])\n",
        "ax.set(xlabel=\"gk_diving\", ylabel = \"count of players\",title=\"Count of players on the basis of gk_diving in cluster 1\")\n",
        "\n",
        "ax=sns.countplot(cluster2['gk_diving'],ax=axes[2])\n",
        "ax.set(xlabel=\"gk_diving\", ylabel = \"count of players\",title=\"Count of players on the basis of gk_diving in cluster 2\")\n",
        "\n",
        "ax=sns.countplot(cluster3['gk_diving'],ax=axes[3])\n",
        "ax.set(xlabel=\"gk_diving\", ylabel = \"count of players\",title=\"Count of players on the basis of gk_diving in cluster 3\")"
      ],
      "execution_count": null,
      "outputs": []
    },
    {
      "cell_type": "markdown",
      "metadata": {
        "id": "CqxjMH9EpNqR"
      },
      "source": [
        "##Count of the player on the basis of power stamina in each cluster"
      ]
    },
    {
      "cell_type": "code",
      "metadata": {
        "id": "oajZ1POaa3dF"
      },
      "source": [
        "\n",
        "fig,axes=plt.subplots(2,2,figsize=(40,15))\n",
        "ax=sns.countplot(cluster0['power_stamina'],ax=axes[0][0])\n",
        "ax.set(xlabel=\"power_stamina\", ylabel = \"count of players\",title=\"Count of players on the basis of power_stamina in cluster 0\")\n",
        "\n",
        "ax=sns.countplot(cluster1['power_stamina'],ax=axes[0][1])\n",
        "ax.set(xlabel=\"power_stamina\", ylabel = \"count of players\",title=\"Count of players on the basis of power_stamina in cluster 1\")\n",
        "\n",
        "ax=sns.countplot(cluster2['power_stamina'],ax=axes[1][0])\n",
        "ax.set(xlabel=\"power_stamina\", ylabel = \"count of players\",title=\"Count of players on the basis of power_stamina in cluster 2\")\n",
        "\n",
        "ax=sns.countplot(cluster3['power_stamina'],ax=axes[1][1])\n",
        "ax.set(xlabel=\"power_stamina\", ylabel = \"count of players\",title=\"Count of players on the basis of power_stamina in cluster 3\")"
      ],
      "execution_count": null,
      "outputs": []
    },
    {
      "cell_type": "markdown",
      "metadata": {
        "id": "12g9Lg47ogPr"
      },
      "source": [
        "##Count of the player on the basis of preferred_foot in each cluster\n",
        "*We can see that Majority of the people have Right foot in all the clusters*"
      ]
    },
    {
      "cell_type": "code",
      "metadata": {
        "id": "3NJQwEHtQlLX"
      },
      "source": [
        "\n",
        "fig,axes=plt.subplots(1,4,figsize=(25,5))\n",
        "ax=sns.countplot(cluster0['preferred_foot'],ax=axes[0])\n",
        "ax.set(xlabel=\"preferred_foot\", ylabel = \"count of players\",title=\"Count of players on the basis of preferred_foot in cluster 0\")\n",
        "\n",
        "ax=sns.countplot(cluster1['preferred_foot'],ax=axes[1])\n",
        "ax.set(xlabel=\"preferred_foot\", ylabel = \"count of players\",title=\"Count of players on the basis of preferred_foot in cluster 1\")\n",
        "\n",
        "ax=sns.countplot(cluster2['preferred_foot'],ax=axes[2])\n",
        "ax.set(xlabel=\"preferred_foot\", ylabel = \"count of players\",title=\"Count of players on the basis of preferred_foot in cluster 2\")\n",
        "\n",
        "ax=sns.countplot(cluster3['preferred_foot'],ax=axes[3])\n",
        "ax.set(xlabel=\"preferred_foot\", ylabel = \"count of players\",title=\"Count of players on the basis of preferred_foot in cluster 3\")"
      ],
      "execution_count": null,
      "outputs": []
    },
    {
      "cell_type": "markdown",
      "metadata": {
        "id": "1_6bS-7ioEEd"
      },
      "source": [
        "## Count of the players on the basis of attacking_heading_accuracy in each cluster"
      ]
    },
    {
      "cell_type": "code",
      "metadata": {
        "id": "A9eUhSTabZtJ"
      },
      "source": [
        "\n",
        "fig,axes=plt.subplots(2,2,figsize=(35,15))\n",
        "ax=sns.countplot(cluster0['attacking_heading_accuracy'],ax=axes[0][0])\n",
        "ax.set(xlabel=\"attacking_heading_accuracy\", ylabel = \"count of players\",title=\"Count of players on the basis of attacking_heading_accuracy in cluster 0\")\n",
        "\n",
        "ax=sns.countplot(cluster1['attacking_heading_accuracy'],ax=axes[0][1])\n",
        "ax.set(xlabel=\"attacking_heading_accuracy\", ylabel = \"count of players\",title=\"Count of players on the basis of attacking_heading_accuracy in cluster 1\")\n",
        "\n",
        "ax=sns.countplot(cluster2['attacking_heading_accuracy'],ax=axes[1][0])\n",
        "ax.set(xlabel=\"attacking_heading_accuracy\", ylabel = \"count of players\",title=\"Count of players on the basis of attacking_heading_accuracy in cluster 2\")\n",
        "\n",
        "ax=sns.countplot(cluster3['attacking_heading_accuracy'],ax=axes[1][1])\n",
        "ax.set(xlabel=\"attacking_heading_accuracy\", ylabel = \"count of players\",title=\"Count of players on the basis of attacking_heading_accuracy in cluster 3\")"
      ],
      "execution_count": null,
      "outputs": []
    },
    {
      "cell_type": "markdown",
      "metadata": {
        "id": "4cczNYnvnrDj"
      },
      "source": [
        "##Count of players based on defending in each cluster\n",
        "*Here goal keeper has no variations in graph or 0 because goalkeepers won't defend on field*"
      ]
    },
    {
      "cell_type": "code",
      "metadata": {
        "id": "ZxJsZAqsgq0H"
      },
      "source": [
        "\n",
        "fig,axes=plt.subplots(2,2,figsize=(55,15))\n",
        "ax=sns.countplot(cluster0['defending'],ax=axes[0][0])\n",
        "ax.set(xlabel=\"defending\", ylabel = \"count of players\",title=\"Count of players on the basis of defending in cluster 0\")\n",
        "\n",
        "ax=sns.countplot(cluster1['defending'],ax=axes[0][1])\n",
        "ax.set(xlabel=\"defending\", ylabel = \"count of players\",title=\"Count of players on the basis of defending in cluster 1\")\n",
        "\n",
        "ax=sns.countplot(cluster2['defending'],ax=axes[1][0])\n",
        "ax.set(xlabel=\"defending\", ylabel = \"count of players\",title=\"Count of players on the basis of defending in cluster 2\")\n",
        "\n",
        "ax=sns.countplot(cluster3['defending'],ax=axes[1][1])\n",
        "ax.set(xlabel=\"defending\", ylabel = \"count of players\",title=\"Count of players on the basis of defending in cluster 3\")"
      ],
      "execution_count": null,
      "outputs": []
    },
    {
      "cell_type": "markdown",
      "metadata": {
        "id": "Rm2HyjHbnNuf"
      },
      "source": [
        "##Count of players on the basis of workrate in each cluster"
      ]
    },
    {
      "cell_type": "code",
      "metadata": {
        "id": "wpL0WoBcTZ4S"
      },
      "source": [
        " import warnings\n",
        "warnings.simplefilter(\"ignore\")\n",
        "\n",
        "fig,axes=plt.subplots(1,4,figsize=(25,5))\n",
        "ax=sns.countplot(cluster0['work_rate'],ax=axes[0])\n",
        "ax.set(xlabel=\"work_rate\", ylabel = \"count of players\",title=\"Count of players on the basis of work_rate in cluster 0\")\n",
        "\n",
        "ax=sns.countplot(cluster1['work_rate'],ax=axes[1])\n",
        "ax.set(xlabel=\"work_rate\", ylabel = \"count of players\",title=\"Count of players on the basis of work_rate in cluster 1\")\n",
        "\n",
        "ax=sns.countplot(cluster2['work_rate'],ax=axes[2])\n",
        "ax.set(xlabel=\"work_rate\", ylabel = \"count of players\",title=\"Count of players on the basis of work_rate in cluster 2\")\n",
        "\n",
        "ax=sns.countplot(cluster3['work_rate'],ax=axes[3])\n",
        "ax.set(xlabel=\"work_rate\", ylabel = \"count of players\",title=\"Count of players on the basis of work_rate in cluster 3\")"
      ],
      "execution_count": null,
      "outputs": []
    }
  ]
}